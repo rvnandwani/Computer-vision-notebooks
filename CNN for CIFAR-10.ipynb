{
 "cells": [
  {
   "cell_type": "code",
   "execution_count": 2,
   "id": "7570657f",
   "metadata": {},
   "outputs": [],
   "source": [
    "import tensorflow as tf\n",
    "import numpy as np\n",
    "import matplotlib.pyplot as plt\n",
    "from tensorflow.keras.layers import Conv2D, Input, Dense, Dropout, GlobalMaxPooling2D, Flatten\n",
    "from tensorflow.keras.models import Model"
   ]
  },
  {
   "cell_type": "markdown",
   "id": "cb2998ad",
   "metadata": {},
   "source": [
    "Load the data"
   ]
  },
  {
   "cell_type": "code",
   "execution_count": 3,
   "id": "8b324775",
   "metadata": {},
   "outputs": [
    {
     "name": "stdout",
     "output_type": "stream",
     "text": [
      "x_train shape =  (50000, 32, 32, 3)\n",
      "y_train shape =  (50000,)\n",
      "Total categories =  10\n"
     ]
    }
   ],
   "source": [
    "cifar10 = tf.keras.datasets.cifar10\n",
    "\n",
    "(x_train , y_train) , (x_test,y_test) = cifar10.load_data()\n",
    "x_train = x_train/255.0\n",
    "x_test = x_test/255.0\n",
    "y_train = y_train.flatten()\n",
    "y_test = y_test.flatten()\n",
    "\n",
    "K = len(set(y_train))\n",
    "\n",
    "print(\"x_train shape = \", x_train.shape)\n",
    "print(\"y_train shape = \",y_train.shape)\n",
    "print(\"Total categories = \",K)"
   ]
  },
  {
   "cell_type": "code",
   "execution_count": 4,
   "id": "8ff0e57a",
   "metadata": {},
   "outputs": [
    {
     "data": {
      "text/plain": [
       "<matplotlib.image.AxesImage at 0x2d2032d2f88>"
      ]
     },
     "execution_count": 4,
     "metadata": {},
     "output_type": "execute_result"
    },
    {
     "data": {
      "image/png": "[encoded data removed]",
      "text/plain": [
       "<Figure size 432x288 with 1 Axes>"
      ]
     },
     "metadata": {
      "needs_background": "light"
     },
     "output_type": "display_data"
    }
   ],
   "source": [
    "plt.imshow(x_train[4])"
   ]
  },
  {
   "cell_type": "markdown",
   "id": "2790d1d7",
   "metadata": {},
   "source": [
    "Build Model"
   ]
  },
  {
   "cell_type": "code",
   "execution_count": 6,
   "id": "17ac8cec",
   "metadata": {},
   "outputs": [],
   "source": [
    "i = Input(shape = x_train[0].shape)\n",
    "x = Conv2D(32,(3,3),strides = 2,activation=\"relu\")(i)\n",
    "x = Conv2D(64,(3,3),strides = 2,activation=\"relu\")(x)\n",
    "x = Conv2D(128,(3,3),strides = 2,activation=\"relu\")(x)\n",
    "x = Flatten()(x)\n",
    "# x = GlobalMaxPooling2D()(x)\n",
    "x = Dropout(0.3)(x)\n",
    "x = Dense(1024 , activation = \"relu\")(x)\n",
    "x = Dropout(0.3)(x)\n",
    "x = Dense(K , activation = \"softmax\")(x)\n",
    "\n",
    "\n",
    "model = Model(i,x)"
   ]
  },
  {
   "cell_type": "markdown",
   "id": "d7e9ec97",
   "metadata": {},
   "source": [
    "Model Compile and Fit"
   ]
  },
  {
   "cell_type": "code",
   "execution_count": 7,
   "id": "f7a835b4",
   "metadata": {},
   "outputs": [
    {
     "name": "stdout",
     "output_type": "stream",
     "text": [
      "Train on 50000 samples, validate on 10000 samples\n",
      "Epoch 1/15\n",
      "50000/50000 [==============================] - 20s 397us/sample - loss: 1.5125 - acc: 0.4488 - val_loss: 1.2218 - val_acc: 0.5636\n",
      "Epoch 2/15\n",
      "50000/50000 [==============================] - 21s 417us/sample - loss: 1.2106 - acc: 0.5650 - val_loss: 1.1367 - val_acc: 0.5966\n",
      "Epoch 3/15\n",
      "50000/50000 [==============================] - 21s 424us/sample - loss: 1.0785 - acc: 0.6150 - val_loss: 1.0198 - val_acc: 0.6369\n",
      "Epoch 4/15\n",
      "50000/50000 [==============================] - 22s 432us/sample - loss: 0.9772 - acc: 0.6536 - val_loss: 0.9495 - val_acc: 0.6640\n",
      "Epoch 5/15\n",
      "50000/50000 [==============================] - 21s 428us/sample - loss: 0.8899 - acc: 0.6837 - val_loss: 0.9157 - val_acc: 0.6743\n",
      "Epoch 6/15\n",
      "50000/50000 [==============================] - 21s 424us/sample - loss: 0.8209 - acc: 0.7078 - val_loss: 0.8983 - val_acc: 0.6879\n",
      "Epoch 7/15\n",
      "50000/50000 [==============================] - 22s 433us/sample - loss: 0.7513 - acc: 0.7337 - val_loss: 0.8652 - val_acc: 0.7035\n",
      "Epoch 8/15\n",
      "50000/50000 [==============================] - 22s 431us/sample - loss: 0.6982 - acc: 0.7506 - val_loss: 0.8935 - val_acc: 0.6911\n",
      "Epoch 9/15\n",
      "50000/50000 [==============================] - 23s 458us/sample - loss: 0.6357 - acc: 0.7733 - val_loss: 0.8961 - val_acc: 0.6982\n",
      "Epoch 10/15\n",
      "50000/50000 [==============================] - 22s 431us/sample - loss: 0.6017 - acc: 0.7849 - val_loss: 0.8837 - val_acc: 0.6966\n",
      "Epoch 11/15\n",
      "50000/50000 [==============================] - 22s 433us/sample - loss: 0.5641 - acc: 0.7977 - val_loss: 0.8825 - val_acc: 0.7002\n",
      "Epoch 12/15\n",
      "50000/50000 [==============================] - 21s 430us/sample - loss: 0.5243 - acc: 0.8132 - val_loss: 0.8826 - val_acc: 0.7062\n",
      "Epoch 13/15\n",
      "50000/50000 [==============================] - 22s 439us/sample - loss: 0.4998 - acc: 0.8205 - val_loss: 0.8646 - val_acc: 0.7205\n",
      "Epoch 14/15\n",
      "50000/50000 [==============================] - 22s 446us/sample - loss: 0.4679 - acc: 0.8325 - val_loss: 0.9048 - val_acc: 0.7078\n",
      "Epoch 15/15\n",
      "50000/50000 [==============================] - 23s 454us/sample - loss: 0.4504 - acc: 0.8401 - val_loss: 0.9280 - val_acc: 0.7096\n"
     ]
    }
   ],
   "source": [
    "model.compile(optimizer = \"adam\" , \n",
    "              loss = \"sparse_categorical_crossentropy\",\n",
    "              metrics = [\"accuracy\"])\n",
    "\n",
    "res = model.fit(x_train , y_train , validation_data = (x_test , y_test) , epochs = 15)"
   ]
  },
  {
   "cell_type": "markdown",
   "id": "6547947a",
   "metadata": {},
   "source": [
    "Model Evaluation"
   ]
  },
  {
   "cell_type": "code",
   "execution_count": 8,
   "id": "8d6dd065",
   "metadata": {},
   "outputs": [
    {
     "data": {
      "image/png": "[encoded data removed]",
      "text/plain": [
       "<Figure size 432x288 with 1 Axes>"
      ]
     },
     "metadata": {
      "needs_background": "light"
     },
     "output_type": "display_data"
    }
   ],
   "source": [
    "\n",
    "plt.plot(res.history[\"loss\"] , label = \"loss\")\n",
    "plt.plot(res.history[\"val_loss\"] , label = \"val_loss\")\n",
    "plt.show()"
   ]
  },
  {
   "cell_type": "code",
   "execution_count": 9,
   "id": "e9c443a5",
   "metadata": {},
   "outputs": [
    {
     "data": {
      "image/png": "[encoded data removed]",
      "text/plain": [
       "<Figure size 432x288 with 1 Axes>"
      ]
     },
     "metadata": {
      "needs_background": "light"
     },
     "output_type": "display_data"
    }
   ],
   "source": [
    "plt.plot(res.history[\"acc\"] , label = \"acc\")\n",
    "plt.plot(res.history[\"val_acc\"] , label = \"val_acc\")\n",
    "plt.show()"
   ]
  },
  {
   "cell_type": "code",
   "execution_count": null,
   "id": "f9a57f29",
   "metadata": {},
   "outputs": [],
   "source": []
  }
 ],
 "metadata": {
  "kernelspec": {
   "display_name": "Python 3 (ipykernel)",
   "language": "python",
   "name": "python3"
  },
  "language_info": {
   "codemirror_mode": {
    "name": "ipython",
    "version": 3
   },
   "file_extension": ".py",
   "mimetype": "text/x-python",
   "name": "python",
   "nbconvert_exporter": "python",
   "pygments_lexer": "ipython3",
   "version": "3.7.12"
  }
 },
 "nbformat": 4,
 "nbformat_minor": 5
}
